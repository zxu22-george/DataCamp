{
 "cells": [
  {
   "cell_type": "code",
   "execution_count": 1,
   "id": "7060bc68",
   "metadata": {},
   "outputs": [],
   "source": [
    "from sklearn.preprocessing import StandardScaler \n",
    "from sklearn.neighbors import KNeighborsClassifier\n",
    "from sklearn.model_selection import train_test_split, cross_validate, GridSearchCV"
   ]
  },
  {
   "cell_type": "code",
   "execution_count": 2,
   "id": "a68c3629",
   "metadata": {},
   "outputs": [],
   "source": [
    "import numpy as np\n",
    "import pandas as pd\n",
    "\n",
    "train_data = pd.read_csv('../PyLearning/titanic/train.csv')\n",
    "test_data = pd.read_csv('../PyLearning/titanic/test.csv')"
   ]
  },
  {
   "cell_type": "code",
   "execution_count": 3,
   "id": "310402fd",
   "metadata": {},
   "outputs": [
    {
     "data": {
      "text/html": [
       "<div>\n",
       "<style scoped>\n",
       "    .dataframe tbody tr th:only-of-type {\n",
       "        vertical-align: middle;\n",
       "    }\n",
       "\n",
       "    .dataframe tbody tr th {\n",
       "        vertical-align: top;\n",
       "    }\n",
       "\n",
       "    .dataframe thead th {\n",
       "        text-align: right;\n",
       "    }\n",
       "</style>\n",
       "<table border=\"1\" class=\"dataframe\">\n",
       "  <thead>\n",
       "    <tr style=\"text-align: right;\">\n",
       "      <th></th>\n",
       "      <th>PassengerId</th>\n",
       "      <th>Survived</th>\n",
       "      <th>Pclass</th>\n",
       "      <th>Name</th>\n",
       "      <th>Sex</th>\n",
       "      <th>Age</th>\n",
       "      <th>SibSp</th>\n",
       "      <th>Parch</th>\n",
       "      <th>Ticket</th>\n",
       "      <th>Fare</th>\n",
       "      <th>Cabin</th>\n",
       "      <th>Embarked</th>\n",
       "    </tr>\n",
       "  </thead>\n",
       "  <tbody>\n",
       "    <tr>\n",
       "      <th>0</th>\n",
       "      <td>1</td>\n",
       "      <td>0</td>\n",
       "      <td>3</td>\n",
       "      <td>Braund, Mr. Owen Harris</td>\n",
       "      <td>male</td>\n",
       "      <td>22.0</td>\n",
       "      <td>1</td>\n",
       "      <td>0</td>\n",
       "      <td>A/5 21171</td>\n",
       "      <td>7.2500</td>\n",
       "      <td>NaN</td>\n",
       "      <td>S</td>\n",
       "    </tr>\n",
       "    <tr>\n",
       "      <th>1</th>\n",
       "      <td>2</td>\n",
       "      <td>1</td>\n",
       "      <td>1</td>\n",
       "      <td>Cumings, Mrs. John Bradley (Florence Briggs Th...</td>\n",
       "      <td>female</td>\n",
       "      <td>38.0</td>\n",
       "      <td>1</td>\n",
       "      <td>0</td>\n",
       "      <td>PC 17599</td>\n",
       "      <td>71.2833</td>\n",
       "      <td>C85</td>\n",
       "      <td>C</td>\n",
       "    </tr>\n",
       "    <tr>\n",
       "      <th>2</th>\n",
       "      <td>3</td>\n",
       "      <td>1</td>\n",
       "      <td>3</td>\n",
       "      <td>Heikkinen, Miss. Laina</td>\n",
       "      <td>female</td>\n",
       "      <td>26.0</td>\n",
       "      <td>0</td>\n",
       "      <td>0</td>\n",
       "      <td>STON/O2. 3101282</td>\n",
       "      <td>7.9250</td>\n",
       "      <td>NaN</td>\n",
       "      <td>S</td>\n",
       "    </tr>\n",
       "    <tr>\n",
       "      <th>3</th>\n",
       "      <td>4</td>\n",
       "      <td>1</td>\n",
       "      <td>1</td>\n",
       "      <td>Futrelle, Mrs. Jacques Heath (Lily May Peel)</td>\n",
       "      <td>female</td>\n",
       "      <td>35.0</td>\n",
       "      <td>1</td>\n",
       "      <td>0</td>\n",
       "      <td>113803</td>\n",
       "      <td>53.1000</td>\n",
       "      <td>C123</td>\n",
       "      <td>S</td>\n",
       "    </tr>\n",
       "    <tr>\n",
       "      <th>4</th>\n",
       "      <td>5</td>\n",
       "      <td>0</td>\n",
       "      <td>3</td>\n",
       "      <td>Allen, Mr. William Henry</td>\n",
       "      <td>male</td>\n",
       "      <td>35.0</td>\n",
       "      <td>0</td>\n",
       "      <td>0</td>\n",
       "      <td>373450</td>\n",
       "      <td>8.0500</td>\n",
       "      <td>NaN</td>\n",
       "      <td>S</td>\n",
       "    </tr>\n",
       "  </tbody>\n",
       "</table>\n",
       "</div>"
      ],
      "text/plain": [
       "   PassengerId  Survived  Pclass  \\\n",
       "0            1         0       3   \n",
       "1            2         1       1   \n",
       "2            3         1       3   \n",
       "3            4         1       1   \n",
       "4            5         0       3   \n",
       "\n",
       "                                                Name     Sex   Age  SibSp  \\\n",
       "0                            Braund, Mr. Owen Harris    male  22.0      1   \n",
       "1  Cumings, Mrs. John Bradley (Florence Briggs Th...  female  38.0      1   \n",
       "2                             Heikkinen, Miss. Laina  female  26.0      0   \n",
       "3       Futrelle, Mrs. Jacques Heath (Lily May Peel)  female  35.0      1   \n",
       "4                           Allen, Mr. William Henry    male  35.0      0   \n",
       "\n",
       "   Parch            Ticket     Fare Cabin Embarked  \n",
       "0      0         A/5 21171   7.2500   NaN        S  \n",
       "1      0          PC 17599  71.2833   C85        C  \n",
       "2      0  STON/O2. 3101282   7.9250   NaN        S  \n",
       "3      0            113803  53.1000  C123        S  \n",
       "4      0            373450   8.0500   NaN        S  "
      ]
     },
     "execution_count": 3,
     "metadata": {},
     "output_type": "execute_result"
    }
   ],
   "source": [
    "#observing the dataset\n",
    "\n",
    "train_data.head()"
   ]
  },
  {
   "cell_type": "code",
   "execution_count": 4,
   "id": "1fee02f7",
   "metadata": {},
   "outputs": [
    {
     "data": {
      "text/html": [
       "<div>\n",
       "<style scoped>\n",
       "    .dataframe tbody tr th:only-of-type {\n",
       "        vertical-align: middle;\n",
       "    }\n",
       "\n",
       "    .dataframe tbody tr th {\n",
       "        vertical-align: top;\n",
       "    }\n",
       "\n",
       "    .dataframe thead th {\n",
       "        text-align: right;\n",
       "    }\n",
       "</style>\n",
       "<table border=\"1\" class=\"dataframe\">\n",
       "  <thead>\n",
       "    <tr style=\"text-align: right;\">\n",
       "      <th></th>\n",
       "      <th>PassengerId</th>\n",
       "      <th>Pclass</th>\n",
       "      <th>Name</th>\n",
       "      <th>Sex</th>\n",
       "      <th>Age</th>\n",
       "      <th>SibSp</th>\n",
       "      <th>Parch</th>\n",
       "      <th>Ticket</th>\n",
       "      <th>Fare</th>\n",
       "      <th>Cabin</th>\n",
       "      <th>Embarked</th>\n",
       "    </tr>\n",
       "  </thead>\n",
       "  <tbody>\n",
       "    <tr>\n",
       "      <th>0</th>\n",
       "      <td>892</td>\n",
       "      <td>3</td>\n",
       "      <td>Kelly, Mr. James</td>\n",
       "      <td>male</td>\n",
       "      <td>34.5</td>\n",
       "      <td>0</td>\n",
       "      <td>0</td>\n",
       "      <td>330911</td>\n",
       "      <td>7.8292</td>\n",
       "      <td>NaN</td>\n",
       "      <td>Q</td>\n",
       "    </tr>\n",
       "    <tr>\n",
       "      <th>1</th>\n",
       "      <td>893</td>\n",
       "      <td>3</td>\n",
       "      <td>Wilkes, Mrs. James (Ellen Needs)</td>\n",
       "      <td>female</td>\n",
       "      <td>47.0</td>\n",
       "      <td>1</td>\n",
       "      <td>0</td>\n",
       "      <td>363272</td>\n",
       "      <td>7.0000</td>\n",
       "      <td>NaN</td>\n",
       "      <td>S</td>\n",
       "    </tr>\n",
       "    <tr>\n",
       "      <th>2</th>\n",
       "      <td>894</td>\n",
       "      <td>2</td>\n",
       "      <td>Myles, Mr. Thomas Francis</td>\n",
       "      <td>male</td>\n",
       "      <td>62.0</td>\n",
       "      <td>0</td>\n",
       "      <td>0</td>\n",
       "      <td>240276</td>\n",
       "      <td>9.6875</td>\n",
       "      <td>NaN</td>\n",
       "      <td>Q</td>\n",
       "    </tr>\n",
       "    <tr>\n",
       "      <th>3</th>\n",
       "      <td>895</td>\n",
       "      <td>3</td>\n",
       "      <td>Wirz, Mr. Albert</td>\n",
       "      <td>male</td>\n",
       "      <td>27.0</td>\n",
       "      <td>0</td>\n",
       "      <td>0</td>\n",
       "      <td>315154</td>\n",
       "      <td>8.6625</td>\n",
       "      <td>NaN</td>\n",
       "      <td>S</td>\n",
       "    </tr>\n",
       "    <tr>\n",
       "      <th>4</th>\n",
       "      <td>896</td>\n",
       "      <td>3</td>\n",
       "      <td>Hirvonen, Mrs. Alexander (Helga E Lindqvist)</td>\n",
       "      <td>female</td>\n",
       "      <td>22.0</td>\n",
       "      <td>1</td>\n",
       "      <td>1</td>\n",
       "      <td>3101298</td>\n",
       "      <td>12.2875</td>\n",
       "      <td>NaN</td>\n",
       "      <td>S</td>\n",
       "    </tr>\n",
       "  </tbody>\n",
       "</table>\n",
       "</div>"
      ],
      "text/plain": [
       "   PassengerId  Pclass                                          Name     Sex  \\\n",
       "0          892       3                              Kelly, Mr. James    male   \n",
       "1          893       3              Wilkes, Mrs. James (Ellen Needs)  female   \n",
       "2          894       2                     Myles, Mr. Thomas Francis    male   \n",
       "3          895       3                              Wirz, Mr. Albert    male   \n",
       "4          896       3  Hirvonen, Mrs. Alexander (Helga E Lindqvist)  female   \n",
       "\n",
       "    Age  SibSp  Parch   Ticket     Fare Cabin Embarked  \n",
       "0  34.5      0      0   330911   7.8292   NaN        Q  \n",
       "1  47.0      1      0   363272   7.0000   NaN        S  \n",
       "2  62.0      0      0   240276   9.6875   NaN        Q  \n",
       "3  27.0      0      0   315154   8.6625   NaN        S  \n",
       "4  22.0      1      1  3101298  12.2875   NaN        S  "
      ]
     },
     "execution_count": 4,
     "metadata": {},
     "output_type": "execute_result"
    }
   ],
   "source": [
    "test_data.head()"
   ]
  },
  {
   "cell_type": "code",
   "execution_count": 5,
   "id": "159b648e",
   "metadata": {},
   "outputs": [
    {
     "data": {
      "text/plain": [
       "PassengerId      0\n",
       "Survived         0\n",
       "Pclass           0\n",
       "Age            177\n",
       "SibSp            0\n",
       "Parch            0\n",
       "Fare             0\n",
       "dtype: int64"
      ]
     },
     "execution_count": 5,
     "metadata": {},
     "output_type": "execute_result"
    }
   ],
   "source": [
    "#examine missing values\n",
    "num_vars = train_data.columns[train_data.dtypes != 'object']\n",
    "cat_vars = train_data.columns[train_data.dtypes == 'object']\n",
    "train_data[num_vars].isnull().sum()"
   ]
  },
  {
   "cell_type": "code",
   "execution_count": 6,
   "id": "1ea2765c",
   "metadata": {},
   "outputs": [
    {
     "data": {
      "text/plain": [
       "Name          0\n",
       "Sex           0\n",
       "Ticket        0\n",
       "Cabin       687\n",
       "Embarked      2\n",
       "dtype: int64"
      ]
     },
     "execution_count": 6,
     "metadata": {},
     "output_type": "execute_result"
    }
   ],
   "source": [
    "train_data[cat_vars].isnull().sum()\n",
    "\n",
    "#so after examining the training set, the 'Age' and 'Embarked' columns need to be dealt with on missing values ('Cabin' will not be used)"
   ]
  },
  {
   "cell_type": "code",
   "execution_count": 7,
   "id": "c3225151",
   "metadata": {},
   "outputs": [
    {
     "data": {
      "text/plain": [
       "PassengerId     0\n",
       "Pclass          0\n",
       "Age            86\n",
       "SibSp           0\n",
       "Parch           0\n",
       "Fare            1\n",
       "dtype: int64"
      ]
     },
     "execution_count": 7,
     "metadata": {},
     "output_type": "execute_result"
    }
   ],
   "source": [
    "#examine missing values (for test set)\n",
    "num_vars_test = test_data.columns[test_data.dtypes != 'object']\n",
    "cat_vars_test = test_data.columns[test_data.dtypes == 'object']\n",
    "test_data[num_vars_test].isnull().sum()"
   ]
  },
  {
   "cell_type": "code",
   "execution_count": 8,
   "id": "20cea923",
   "metadata": {},
   "outputs": [
    {
     "data": {
      "text/plain": [
       "Name          0\n",
       "Sex           0\n",
       "Ticket        0\n",
       "Cabin       327\n",
       "Embarked      0\n",
       "dtype: int64"
      ]
     },
     "execution_count": 8,
     "metadata": {},
     "output_type": "execute_result"
    }
   ],
   "source": [
    "test_data[cat_vars_test].isnull().sum()\n",
    "\n",
    "#so after examining the testing set, the 'Age' and 'Fare' columns need to be dealt with on missing values"
   ]
  },
  {
   "cell_type": "code",
   "execution_count": 9,
   "id": "9198c18b",
   "metadata": {},
   "outputs": [],
   "source": [
    "train_data = train_data.dropna(subset = ['Embarked']) #drop two rows\n",
    "#impute missing ages for both training and testing set, using mean\n",
    "train_data['Age'].fillna(round(train_data['Age'].dropna().mean()), inplace = True)\n",
    "test_data['Age'].fillna(round(train_data['Age'].dropna().mean()), inplace = True)"
   ]
  },
  {
   "cell_type": "code",
   "execution_count": 10,
   "id": "aaba6b6a",
   "metadata": {},
   "outputs": [],
   "source": [
    "# to complete __ prediction, two columns of data need to be added to the dataframe \n",
    "\n",
    "train_data['FamilySize'] = train_data['SibSp'] + train_data['Parch'] + 1\n",
    "test_data['FamilySize'] = test_data['SibSp'] + test_data['Parch'] + 1\n",
    "\n",
    "train_data['personAlone'] = train_data['FamilySize'].map({1:1})\n",
    "train_data.fillna(0, inplace = True)\n",
    "test_data['personAlone'] = test_data['FamilySize'].map({1:1})\n",
    "test_data.fillna(0, inplace = True)"
   ]
  },
  {
   "cell_type": "code",
   "execution_count": 11,
   "id": "f9925744",
   "metadata": {},
   "outputs": [
    {
     "data": {
      "text/plain": [
       "array([22., 30., 35.])"
      ]
     },
     "execution_count": 11,
     "metadata": {},
     "output_type": "execute_result"
    }
   ],
   "source": [
    "#split age and fare into bands to prepare for normalization\n",
    "\n",
    "#age\n",
    "\n",
    "np.quantile(train_data['Age'], [.25, .5, .75], axis = 0)\n"
   ]
  },
  {
   "cell_type": "code",
   "execution_count": 12,
   "id": "319b70e3",
   "metadata": {},
   "outputs": [
    {
     "data": {
      "text/plain": [
       "min     0.42\n",
       "max    80.00\n",
       "Name: Age, dtype: float64"
      ]
     },
     "execution_count": 12,
     "metadata": {},
     "output_type": "execute_result"
    }
   ],
   "source": [
    "train_data['Age'].agg(['min', 'max'])"
   ]
  },
  {
   "cell_type": "code",
   "execution_count": 13,
   "id": "cbab27e5",
   "metadata": {},
   "outputs": [],
   "source": [
    "bins_age = [0, 22, 30, 35, 80]\n",
    "labels = [0, 1, 2, 3]\n",
    "train_data['AgeBand'] = pd.cut(train_data['Age'], bins = bins_age, labels = labels, right = False)\n",
    "test_data['AgeBand'] = pd.cut(test_data['Age'], bins = bins_age, labels = labels, right = False)"
   ]
  },
  {
   "cell_type": "code",
   "execution_count": 14,
   "id": "65cb4cf5",
   "metadata": {},
   "outputs": [
    {
     "data": {
      "text/plain": [
       "array([ 7.8958, 14.4542, 31.    ])"
      ]
     },
     "execution_count": 14,
     "metadata": {},
     "output_type": "execute_result"
    }
   ],
   "source": [
    "#fare \n",
    "\n",
    "np.quantile(train_data['Fare'], [.25, .5, .75], axis = 0)"
   ]
  },
  {
   "cell_type": "code",
   "execution_count": 15,
   "id": "4e4294f9",
   "metadata": {},
   "outputs": [
    {
     "data": {
      "text/plain": [
       "min      0.0000\n",
       "max    512.3292\n",
       "Name: Fare, dtype: float64"
      ]
     },
     "execution_count": 15,
     "metadata": {},
     "output_type": "execute_result"
    }
   ],
   "source": [
    "train_data['Fare'].agg(['min', 'max'])"
   ]
  },
  {
   "cell_type": "code",
   "execution_count": 16,
   "id": "95fef2d8",
   "metadata": {},
   "outputs": [],
   "source": [
    "bins_fare = [0, 8, 15, 31, 513]\n",
    "train_data['FareBand'] = pd.cut(train_data['Fare'], bins = bins_fare, labels = labels, right = False)\n",
    "test_data['FareBand'] = pd.cut(test_data['Fare'], bins = bins_fare, labels = labels, right = False)"
   ]
  },
  {
   "cell_type": "code",
   "execution_count": 17,
   "id": "fdf13c55",
   "metadata": {},
   "outputs": [],
   "source": [
    "#using StandardScaler to normalize\n",
    "\n",
    "scaler = StandardScaler()\n",
    "features = ['Pclass', 'AgeBand', 'FareBand', 'FamilySize']\n",
    "train_data[features] = scaler.fit_transform(train_data[features])\n",
    "test_data[features] = scaler.fit_transform(test_data[features])"
   ]
  },
  {
   "cell_type": "code",
   "execution_count": 18,
   "id": "9b9786d6",
   "metadata": {},
   "outputs": [],
   "source": [
    "#encode categorical variables\n",
    "\n",
    "#map sexes to 0 and 1\n",
    "\n",
    "train_data['Sex'] = train_data['Sex'].map({'male':1, 'female':0})\n",
    "test_data['Sex'] = test_data['Sex'].map({'male':1, 'female':0})\n",
    "\n",
    "#use dummies to replace 'Embarked'\n",
    "train_data['Embarked'] = pd.get_dummies(train_data, columns = ['Embarked'])\n",
    "test_data['Embarked'] = pd.get_dummies(test_data, columns = ['Embarked'])"
   ]
  },
  {
   "cell_type": "code",
   "execution_count": 19,
   "id": "3b1be820",
   "metadata": {},
   "outputs": [],
   "source": [
    "#train test split\n",
    "X_train = train_data.drop(columns = ['Survived','Name','Age','SibSp','Parch','Fare','PassengerId','Ticket','Cabin'])\n",
    "y_train = train_data['Survived']\n",
    "X_test = test_data.drop(columns = ['Name','Age','SibSp','Parch','Fare','Ticket','PassengerId','Cabin'])"
   ]
  },
  {
   "cell_type": "code",
   "execution_count": 20,
   "id": "f96ae042",
   "metadata": {},
   "outputs": [
    {
     "data": {
      "text/html": [
       "<div>\n",
       "<style scoped>\n",
       "    .dataframe tbody tr th:only-of-type {\n",
       "        vertical-align: middle;\n",
       "    }\n",
       "\n",
       "    .dataframe tbody tr th {\n",
       "        vertical-align: top;\n",
       "    }\n",
       "\n",
       "    .dataframe thead th {\n",
       "        text-align: right;\n",
       "    }\n",
       "</style>\n",
       "<table border=\"1\" class=\"dataframe\">\n",
       "  <thead>\n",
       "    <tr style=\"text-align: right;\">\n",
       "      <th></th>\n",
       "      <th>Pclass</th>\n",
       "      <th>Sex</th>\n",
       "      <th>Embarked</th>\n",
       "      <th>FamilySize</th>\n",
       "      <th>personAlone</th>\n",
       "      <th>AgeBand</th>\n",
       "      <th>FareBand</th>\n",
       "    </tr>\n",
       "  </thead>\n",
       "  <tbody>\n",
       "    <tr>\n",
       "      <th>0</th>\n",
       "      <td>0.825209</td>\n",
       "      <td>1</td>\n",
       "      <td>1</td>\n",
       "      <td>0.057853</td>\n",
       "      <td>0.0</td>\n",
       "      <td>0.033558</td>\n",
       "      <td>-1.289125</td>\n",
       "    </tr>\n",
       "    <tr>\n",
       "      <th>1</th>\n",
       "      <td>-1.572211</td>\n",
       "      <td>0</td>\n",
       "      <td>2</td>\n",
       "      <td>0.057853</td>\n",
       "      <td>0.0</td>\n",
       "      <td>0.033558</td>\n",
       "      <td>1.349475</td>\n",
       "    </tr>\n",
       "    <tr>\n",
       "      <th>2</th>\n",
       "      <td>0.825209</td>\n",
       "      <td>0</td>\n",
       "      <td>3</td>\n",
       "      <td>-0.561804</td>\n",
       "      <td>1.0</td>\n",
       "      <td>0.033558</td>\n",
       "      <td>-1.289125</td>\n",
       "    </tr>\n",
       "    <tr>\n",
       "      <th>3</th>\n",
       "      <td>-1.572211</td>\n",
       "      <td>0</td>\n",
       "      <td>4</td>\n",
       "      <td>0.057853</td>\n",
       "      <td>0.0</td>\n",
       "      <td>0.033558</td>\n",
       "      <td>1.349475</td>\n",
       "    </tr>\n",
       "    <tr>\n",
       "      <th>4</th>\n",
       "      <td>0.825209</td>\n",
       "      <td>1</td>\n",
       "      <td>5</td>\n",
       "      <td>-0.561804</td>\n",
       "      <td>1.0</td>\n",
       "      <td>0.033558</td>\n",
       "      <td>-0.409592</td>\n",
       "    </tr>\n",
       "    <tr>\n",
       "      <th>...</th>\n",
       "      <td>...</td>\n",
       "      <td>...</td>\n",
       "      <td>...</td>\n",
       "      <td>...</td>\n",
       "      <td>...</td>\n",
       "      <td>...</td>\n",
       "      <td>...</td>\n",
       "    </tr>\n",
       "    <tr>\n",
       "      <th>886</th>\n",
       "      <td>-0.373501</td>\n",
       "      <td>1</td>\n",
       "      <td>887</td>\n",
       "      <td>-0.561804</td>\n",
       "      <td>1.0</td>\n",
       "      <td>0.033558</td>\n",
       "      <td>-0.409592</td>\n",
       "    </tr>\n",
       "    <tr>\n",
       "      <th>887</th>\n",
       "      <td>-1.572211</td>\n",
       "      <td>0</td>\n",
       "      <td>888</td>\n",
       "      <td>-0.561804</td>\n",
       "      <td>1.0</td>\n",
       "      <td>0.033558</td>\n",
       "      <td>0.469942</td>\n",
       "    </tr>\n",
       "    <tr>\n",
       "      <th>888</th>\n",
       "      <td>0.825209</td>\n",
       "      <td>0</td>\n",
       "      <td>889</td>\n",
       "      <td>1.297169</td>\n",
       "      <td>0.0</td>\n",
       "      <td>0.033558</td>\n",
       "      <td>0.469942</td>\n",
       "    </tr>\n",
       "    <tr>\n",
       "      <th>889</th>\n",
       "      <td>-1.572211</td>\n",
       "      <td>1</td>\n",
       "      <td>890</td>\n",
       "      <td>-0.561804</td>\n",
       "      <td>1.0</td>\n",
       "      <td>0.033558</td>\n",
       "      <td>0.469942</td>\n",
       "    </tr>\n",
       "    <tr>\n",
       "      <th>890</th>\n",
       "      <td>0.825209</td>\n",
       "      <td>1</td>\n",
       "      <td>891</td>\n",
       "      <td>-0.561804</td>\n",
       "      <td>1.0</td>\n",
       "      <td>0.033558</td>\n",
       "      <td>-1.289125</td>\n",
       "    </tr>\n",
       "  </tbody>\n",
       "</table>\n",
       "<p>889 rows × 7 columns</p>\n",
       "</div>"
      ],
      "text/plain": [
       "       Pclass  Sex Embarked  FamilySize  personAlone   AgeBand  FareBand\n",
       "0    0.825209    1        1    0.057853          0.0  0.033558 -1.289125\n",
       "1   -1.572211    0        2    0.057853          0.0  0.033558  1.349475\n",
       "2    0.825209    0        3   -0.561804          1.0  0.033558 -1.289125\n",
       "3   -1.572211    0        4    0.057853          0.0  0.033558  1.349475\n",
       "4    0.825209    1        5   -0.561804          1.0  0.033558 -0.409592\n",
       "..        ...  ...      ...         ...          ...       ...       ...\n",
       "886 -0.373501    1      887   -0.561804          1.0  0.033558 -0.409592\n",
       "887 -1.572211    0      888   -0.561804          1.0  0.033558  0.469942\n",
       "888  0.825209    0      889    1.297169          0.0  0.033558  0.469942\n",
       "889 -1.572211    1      890   -0.561804          1.0  0.033558  0.469942\n",
       "890  0.825209    1      891   -0.561804          1.0  0.033558 -1.289125\n",
       "\n",
       "[889 rows x 7 columns]"
      ]
     },
     "execution_count": 20,
     "metadata": {},
     "output_type": "execute_result"
    }
   ],
   "source": [
    "X_train"
   ]
  },
  {
   "cell_type": "code",
   "execution_count": 21,
   "id": "d3bbf0eb",
   "metadata": {},
   "outputs": [
    {
     "data": {
      "text/plain": [
       "{'n_neighbors': 9, 'p': 1, 'weights': 'uniform'}"
      ]
     },
     "execution_count": 21,
     "metadata": {},
     "output_type": "execute_result"
    }
   ],
   "source": [
    "# use KNN\n",
    "\n",
    "knn = KNeighborsClassifier()\n",
    "params = {'n_neighbors':np.arange(2, 11),\n",
    "         'p':[1,2],\n",
    "         'weights':['uniform', 'distance']}\n",
    "#initialize CV\n",
    "cv = GridSearchCV(estimator = knn, param_grid = params, scoring = 'accuracy', cv = 5)\n",
    "\n",
    "cv.fit(X_train, y_train)\n",
    "cv.best_params_"
   ]
  },
  {
   "cell_type": "code",
   "execution_count": 22,
   "id": "012e202e",
   "metadata": {},
   "outputs": [
    {
     "data": {
      "text/plain": [
       "0.5265346283247635"
      ]
     },
     "execution_count": 22,
     "metadata": {},
     "output_type": "execute_result"
    }
   ],
   "source": [
    "# cross validation (results not very good...)\n",
    "knn_best = KNeighborsClassifier(n_neighbors = 9, p = 1, weights = 'uniform')\n",
    "cv_res = cross_validate(knn_best, X_train, y_train, scoring = 'accuracy', cv = 5)\n",
    "cv_res['test_score'].mean()"
   ]
  },
  {
   "cell_type": "code",
   "execution_count": 23,
   "id": "40904406",
   "metadata": {},
   "outputs": [
    {
     "data": {
      "text/html": [
       "<div>\n",
       "<style scoped>\n",
       "    .dataframe tbody tr th:only-of-type {\n",
       "        vertical-align: middle;\n",
       "    }\n",
       "\n",
       "    .dataframe tbody tr th {\n",
       "        vertical-align: top;\n",
       "    }\n",
       "\n",
       "    .dataframe thead th {\n",
       "        text-align: right;\n",
       "    }\n",
       "</style>\n",
       "<table border=\"1\" class=\"dataframe\">\n",
       "  <thead>\n",
       "    <tr style=\"text-align: right;\">\n",
       "      <th></th>\n",
       "      <th>PassengerId</th>\n",
       "      <th>Survived</th>\n",
       "    </tr>\n",
       "  </thead>\n",
       "  <tbody>\n",
       "    <tr>\n",
       "      <th>0</th>\n",
       "      <td>892</td>\n",
       "      <td>0</td>\n",
       "    </tr>\n",
       "    <tr>\n",
       "      <th>1</th>\n",
       "      <td>893</td>\n",
       "      <td>0</td>\n",
       "    </tr>\n",
       "    <tr>\n",
       "      <th>2</th>\n",
       "      <td>894</td>\n",
       "      <td>0</td>\n",
       "    </tr>\n",
       "    <tr>\n",
       "      <th>3</th>\n",
       "      <td>895</td>\n",
       "      <td>0</td>\n",
       "    </tr>\n",
       "    <tr>\n",
       "      <th>4</th>\n",
       "      <td>896</td>\n",
       "      <td>0</td>\n",
       "    </tr>\n",
       "  </tbody>\n",
       "</table>\n",
       "</div>"
      ],
      "text/plain": [
       "   PassengerId  Survived\n",
       "0          892         0\n",
       "1          893         0\n",
       "2          894         0\n",
       "3          895         0\n",
       "4          896         0"
      ]
     },
     "execution_count": 23,
     "metadata": {},
     "output_type": "execute_result"
    }
   ],
   "source": [
    "# make predictions\n",
    "\n",
    "knn_best.fit(X_train, y_train)\n",
    "y_pred = knn_best.predict(X_test)\n",
    "subs = pd.read_csv('../PyLearning/titanic/gender_submission.csv')\n",
    "subs['Survived'] = y_pred\n",
    "subs.head()"
   ]
  },
  {
   "cell_type": "code",
   "execution_count": null,
   "id": "a1be89c8",
   "metadata": {},
   "outputs": [],
   "source": [
    "# predicts are all 0"
   ]
  }
 ],
 "metadata": {
  "kernelspec": {
   "display_name": "Python 3",
   "language": "python",
   "name": "python3"
  },
  "language_info": {
   "codemirror_mode": {
    "name": "ipython",
    "version": 3
   },
   "file_extension": ".py",
   "mimetype": "text/x-python",
   "name": "python",
   "nbconvert_exporter": "python",
   "pygments_lexer": "ipython3",
   "version": "3.8.8"
  }
 },
 "nbformat": 4,
 "nbformat_minor": 5
}
